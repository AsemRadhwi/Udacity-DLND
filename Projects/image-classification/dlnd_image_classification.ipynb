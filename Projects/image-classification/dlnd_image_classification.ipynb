{
 "cells": [
  {
   "cell_type": "markdown",
   "metadata": {
    "collapsed": true,
    "deletable": true,
    "editable": true
   },
   "source": [
    "# Image Classification\n",
    "In this project, you'll classify images from the [CIFAR-10 dataset](https://www.cs.toronto.edu/~kriz/cifar.html).  The dataset consists of airplanes, dogs, cats, and other objects. You'll preprocess the images, then train a convolutional neural network on all the samples. The images need to be normalized and the labels need to be one-hot encoded.  You'll get to apply what you learned and build a convolutional, max pooling, dropout, and fully connected layers.  At the end, you'll get to see your neural network's predictions on the sample images.\n",
    "## Get the Data\n",
    "Run the following cell to download the [CIFAR-10 dataset for python](https://www.cs.toronto.edu/~kriz/cifar-10-python.tar.gz)."
   ]
  },
  {
   "cell_type": "code",
   "execution_count": 1,
   "metadata": {
    "collapsed": false,
    "deletable": true,
    "editable": true
   },
   "outputs": [
    {
     "name": "stdout",
     "output_type": "stream",
     "text": [
      "All files found!\n"
     ]
    }
   ],
   "source": [
    "\"\"\"\n",
    "DON'T MODIFY ANYTHING IN THIS CELL THAT IS BELOW THIS LINE\n",
    "\"\"\"\n",
    "from urllib.request import urlretrieve\n",
    "from os.path import isfile, isdir\n",
    "from tqdm import tqdm\n",
    "import problem_unittests as tests\n",
    "import tarfile\n",
    "\n",
    "cifar10_dataset_folder_path = 'cifar-10-batches-py'\n",
    "\n",
    "class DLProgress(tqdm):\n",
    "    last_block = 0\n",
    "\n",
    "    def hook(self, block_num=1, block_size=1, total_size=None):\n",
    "        self.total = total_size\n",
    "        self.update((block_num - self.last_block) * block_size)\n",
    "        self.last_block = block_num\n",
    "\n",
    "if not isfile('cifar-10-python.tar.gz'):\n",
    "    with DLProgress(unit='B', unit_scale=True, miniters=1, desc='CIFAR-10 Dataset') as pbar:\n",
    "        urlretrieve(\n",
    "            'https://www.cs.toronto.edu/~kriz/cifar-10-python.tar.gz',\n",
    "            'cifar-10-python.tar.gz',\n",
    "            pbar.hook)\n",
    "\n",
    "if not isdir(cifar10_dataset_folder_path):\n",
    "    with tarfile.open('cifar-10-python.tar.gz') as tar:\n",
    "        tar.extractall()\n",
    "        tar.close()\n",
    "\n",
    "\n",
    "tests.test_folder_path(cifar10_dataset_folder_path)"
   ]
  },
  {
   "cell_type": "markdown",
   "metadata": {
    "deletable": true,
    "editable": true
   },
   "source": [
    "## Explore the Data\n",
    "The dataset is broken into batches to prevent your machine from running out of memory.  The CIFAR-10 dataset consists of 5 batches, named `data_batch_1`, `data_batch_2`, etc.. Each batch contains the labels and images that are one of the following:\n",
    "* airplane\n",
    "* automobile\n",
    "* bird\n",
    "* cat\n",
    "* deer\n",
    "* dog\n",
    "* frog\n",
    "* horse\n",
    "* ship\n",
    "* truck\n",
    "\n",
    "Understanding a dataset is part of making predictions on the data.  Play around with the code cell below by changing the `batch_id` and `sample_id`. The `batch_id` is the id for a batch (1-5). The `sample_id` is the id for a image and label pair in the batch.\n",
    "\n",
    "Ask yourself \"What are all possible labels?\", \"What is the range of values for the image data?\", \"Are the labels in order or random?\".  Answers to questions like these will help you preprocess the data and end up with better predictions."
   ]
  },
  {
   "cell_type": "code",
   "execution_count": 2,
   "metadata": {
    "collapsed": false,
    "deletable": true,
    "editable": true
   },
   "outputs": [
    {
     "name": "stdout",
     "output_type": "stream",
     "text": [
      "\n",
      "Stats of batch 5:\n",
      "Samples: 10000\n",
      "Label Counts: {0: 1014, 1: 1014, 2: 952, 3: 1016, 4: 997, 5: 1025, 6: 980, 7: 977, 8: 1003, 9: 1022}\n",
      "First 20 Labels: [1, 8, 5, 1, 5, 7, 4, 3, 8, 2, 7, 2, 0, 1, 5, 9, 6, 2, 0, 8]\n",
      "\n",
      "Example of Image 5:\n",
      "Image - Min Value: 1 Max Value: 255\n",
      "Image - Shape: (32, 32, 3)\n",
      "Label - Label Id: 7 Name: horse\n"
     ]
    },
    {
     "data": {
      "image/png": "[encoded data removed]",
      "text/plain": [
       "<matplotlib.figure.Figure at 0x7f216299f6a0>"
      ]
     },
     "metadata": {
      "image/png": {
       "height": 250,
       "width": 253
      }
     },
     "output_type": "display_data"
    }
   ],
   "source": [
    "%matplotlib inline\n",
    "%config InlineBackend.figure_format = 'retina'\n",
    "\n",
    "import helper\n",
    "import numpy as np\n",
    "\n",
    "# Explore the dataset\n",
    "batch_id = 5\n",
    "sample_id = 5\n",
    "helper.display_stats(cifar10_dataset_folder_path, batch_id, sample_id)"
   ]
  },
  {
   "cell_type": "markdown",
   "metadata": {
    "deletable": true,
    "editable": true
   },
   "source": [
    "## Implement Preprocess Functions\n",
    "### Normalize\n",
    "In the cell below, implement the `normalize` function to take in image data, `x`, and return it as a normalized Numpy array. The values should be in the range of 0 to 1, inclusive.  The return object should be the same shape as `x`."
   ]
  },
  {
   "cell_type": "code",
   "execution_count": 3,
   "metadata": {
    "collapsed": false,
    "deletable": true,
    "editable": true
   },
   "outputs": [
    {
     "name": "stdout",
     "output_type": "stream",
     "text": [
      "Tests Passed\n"
     ]
    }
   ],
   "source": [
    "def normalize(x):\n",
    "    \"\"\"\n",
    "    Normalize a list of sample image data in the range of 0 to 1\n",
    "    : x: List of image data.  The image shape is (32, 32, 3)\n",
    "    : return: Numpy array of normalize data\n",
    "    \"\"\"\n",
    "    # TODO: Implement Function\n",
    "    return x/255\n",
    "\n",
    "\n",
    "\"\"\"\n",
    "DON'T MODIFY ANYTHING IN THIS CELL THAT IS BELOW THIS LINE\n",
    "\"\"\"\n",
    "tests.test_normalize(normalize)"
   ]
  },
  {
   "cell_type": "markdown",
   "metadata": {
    "deletable": true,
    "editable": true
   },
   "source": [
    "### One-hot encode\n",
    "Just like the previous code cell, you'll be implementing a function for preprocessing.  This time, you'll implement the `one_hot_encode` function. The input, `x`, are a list of labels.  Implement the function to return the list of labels as One-Hot encoded Numpy array.  The possible values for labels are 0 to 9. The one-hot encoding function should return the same encoding for each value between each call to `one_hot_encode`.  Make sure to save the map of encodings outside the function.\n",
    "\n",
    "Hint: Don't reinvent the wheel."
   ]
  },
  {
   "cell_type": "code",
   "execution_count": 4,
   "metadata": {
    "collapsed": false,
    "deletable": true,
    "editable": true
   },
   "outputs": [
    {
     "name": "stdout",
     "output_type": "stream",
     "text": [
      "Tests Passed\n"
     ]
    }
   ],
   "source": [
    "def one_hot_encode(x):\n",
    "    \"\"\"\n",
    "    One hot encode a list of sample labels. Return a one-hot encoded vector for each label.\n",
    "    : x: List of sample Labels\n",
    "    : return: Numpy array of one-hot encoded labels\n",
    "    \"\"\"\n",
    "    # TODO: Implement Function\n",
    "    # 2-D array with ones on the diagonal and zeros elsewhere\n",
    "    # of 10 rows and columns representing the number of labels\n",
    "    return np.eye(10)[x]\n",
    "\n",
    "\n",
    "\"\"\"\n",
    "DON'T MODIFY ANYTHING IN THIS CELL THAT IS BELOW THIS LINE\n",
    "\"\"\"\n",
    "tests.test_one_hot_encode(one_hot_encode)"
   ]
  },
  {
   "cell_type": "markdown",
   "metadata": {
    "deletable": true,
    "editable": true
   },
   "source": [
    "### Randomize Data\n",
    "As you saw from exploring the data above, the order of the samples are randomized.  It doesn't hurt to randomize it again, but you don't need to for this dataset."
   ]
  },
  {
   "cell_type": "markdown",
   "metadata": {
    "deletable": true,
    "editable": true
   },
   "source": [
    "## Preprocess all the data and save it\n",
    "Running the code cell below will preprocess all the CIFAR-10 data and save it to file. The code below also uses 10% of the training data for validation."
   ]
  },
  {
   "cell_type": "code",
   "execution_count": 5,
   "metadata": {
    "collapsed": false,
    "deletable": true,
    "editable": true
   },
   "outputs": [],
   "source": [
    "\"\"\"\n",
    "DON'T MODIFY ANYTHING IN THIS CELL\n",
    "\"\"\"\n",
    "# Preprocess Training, Validation, and Testing Data\n",
    "helper.preprocess_and_save_data(cifar10_dataset_folder_path, normalize, one_hot_encode)"
   ]
  },
  {
   "cell_type": "markdown",
   "metadata": {
    "deletable": true,
    "editable": true
   },
   "source": [
    "# Check Point\n",
    "This is your first checkpoint.  If you ever decide to come back to this notebook or have to restart the notebook, you can start from here.  The preprocessed data has been saved to disk."
   ]
  },
  {
   "cell_type": "code",
   "execution_count": 44,
   "metadata": {
    "collapsed": true,
    "deletable": true,
    "editable": true
   },
   "outputs": [],
   "source": [
    "\"\"\"\n",
    "DON'T MODIFY ANYTHING IN THIS CELL\n",
    "\"\"\"\n",
    "import pickle\n",
    "import problem_unittests as tests\n",
    "import helper\n",
    "\n",
    "# Load the Preprocessed Validation data\n",
    "valid_features, valid_labels = pickle.load(open('preprocess_validation.p', mode='rb'))"
   ]
  },
  {
   "cell_type": "markdown",
   "metadata": {
    "deletable": true,
    "editable": true
   },
   "source": [
    "## Build the network\n",
    "For the neural network, you'll build each layer into a function.  Most of the code you've seen has been outside of functions. To test your code more thoroughly, we require that you put each layer in a function.  This allows us to give you better feedback and test for simple mistakes using our unittests before you submit your project.\n",
    "\n",
    ">**Note:** If you're finding it hard to dedicate enough time for this course each week, we've provided a small shortcut to this part of the project. In the next couple of problems, you'll have the option to use classes from the [TensorFlow Layers](https://www.tensorflow.org/api_docs/python/tf/layers) or [TensorFlow Layers (contrib)](https://www.tensorflow.org/api_guides/python/contrib.layers) packages to build each layer, except the layers you build in the \"Convolutional and Max Pooling Layer\" section.  TF Layers is similar to Keras's and TFLearn's abstraction to layers, so it's easy to pickup.\n",
    "\n",
    ">However, if you would like to get the most out of this course, try to solve all the problems _without_ using anything from the TF Layers packages. You **can** still use classes from other packages that happen to have the same name as ones you find in TF Layers! For example, instead of using the TF Layers version of the `conv2d` class, [tf.layers.conv2d](https://www.tensorflow.org/api_docs/python/tf/layers/conv2d), you would want to use the TF Neural Network version of `conv2d`, [tf.nn.conv2d](https://www.tensorflow.org/api_docs/python/tf/nn/conv2d). \n",
    "\n",
    "Let's begin!\n",
    "\n",
    "### Input\n",
    "The neural network needs to read the image data, one-hot encoded labels, and dropout keep probability. Implement the following functions\n",
    "* Implement `neural_net_image_input`\n",
    " * Return a [TF Placeholder](https://www.tensorflow.org/api_docs/python/tf/placeholder)\n",
    " * Set the shape using `image_shape` with batch size set to `None`.\n",
    " * Name the TensorFlow placeholder \"x\" using the TensorFlow `name` parameter in the [TF Placeholder](https://www.tensorflow.org/api_docs/python/tf/placeholder).\n",
    "* Implement `neural_net_label_input`\n",
    " * Return a [TF Placeholder](https://www.tensorflow.org/api_docs/python/tf/placeholder)\n",
    " * Set the shape using `n_classes` with batch size set to `None`.\n",
    " * Name the TensorFlow placeholder \"y\" using the TensorFlow `name` parameter in the [TF Placeholder](https://www.tensorflow.org/api_docs/python/tf/placeholder).\n",
    "* Implement `neural_net_keep_prob_input`\n",
    " * Return a [TF Placeholder](https://www.tensorflow.org/api_docs/python/tf/placeholder) for dropout keep probability.\n",
    " * Name the TensorFlow placeholder \"keep_prob\" using the TensorFlow `name` parameter in the [TF Placeholder](https://www.tensorflow.org/api_docs/python/tf/placeholder).\n",
    "\n",
    "These names will be used at the end of the project to load your saved model.\n",
    "\n",
    "Note: `None` for shapes in TensorFlow allow for a dynamic size."
   ]
  },
  {
   "cell_type": "code",
   "execution_count": 45,
   "metadata": {
    "collapsed": false,
    "deletable": true,
    "editable": true
   },
   "outputs": [
    {
     "name": "stdout",
     "output_type": "stream",
     "text": [
      "Image Input Tests Passed.\n",
      "Label Input Tests Passed.\n",
      "Keep Prob Tests Passed.\n"
     ]
    }
   ],
   "source": [
    "import tensorflow as tf\n",
    "\n",
    "def neural_net_image_input(image_shape):\n",
    "    \"\"\"\n",
    "    Return a Tensor for a bach of image input\n",
    "    : image_shape: Shape of the images\n",
    "    : return: Tensor for image input.\n",
    "    \"\"\"\n",
    "    # TODO: Implement Function\n",
    "    return tf.placeholder(tf.float32, (None, image_shape[0], image_shape[1], image_shape[2]), \"x\")\n",
    "\n",
    "\n",
    "def neural_net_label_input(n_classes):\n",
    "    \"\"\"\n",
    "    Return a Tensor for a batch of label input\n",
    "    : n_classes: Number of classes\n",
    "    : return: Tensor for label input.\n",
    "    \"\"\"\n",
    "    # TODO: Implement Function\n",
    "    return tf.placeholder(tf.int32, (None, n_classes), \"y\")\n",
    "\n",
    "\n",
    "def neural_net_keep_prob_input():\n",
    "    \"\"\"\n",
    "    Return a Tensor for keep probability\n",
    "    : return: Tensor for keep probability.\n",
    "    \"\"\"\n",
    "    # TODO: Implement Function\n",
    "    return tf.placeholder(tf.float32, name=\"keep_prob\")\n",
    "\n",
    "\n",
    "\"\"\"\n",
    "DON'T MODIFY ANYTHING IN THIS CELL THAT IS BELOW THIS LINE\n",
    "\"\"\"\n",
    "tf.reset_default_graph()\n",
    "tests.test_nn_image_inputs(neural_net_image_input)\n",
    "tests.test_nn_label_inputs(neural_net_label_input)\n",
    "tests.test_nn_keep_prob_inputs(neural_net_keep_prob_input)"
   ]
  },
  {
   "cell_type": "markdown",
   "metadata": {
    "deletable": true,
    "editable": true
   },
   "source": [
    "### Convolution and Max Pooling Layer\n",
    "Convolution layers have a lot of success with images. For this code cell, you should implement the function `conv2d_maxpool` to apply convolution then max pooling:\n",
    "* Create the weight and bias using `conv_ksize`, `conv_num_outputs` and the shape of `x_tensor`.\n",
    "* Apply a convolution to `x_tensor` using weight and `conv_strides`.\n",
    " * We recommend you use same padding, but you're welcome to use any padding.\n",
    "* Add bias\n",
    "* Add a nonlinear activation to the convolution.\n",
    "* Apply Max Pooling using `pool_ksize` and `pool_strides`.\n",
    " * We recommend you use same padding, but you're welcome to use any padding.\n",
    "\n",
    "**Note:** You **can't** use [TensorFlow Layers](https://www.tensorflow.org/api_docs/python/tf/layers) or [TensorFlow Layers (contrib)](https://www.tensorflow.org/api_guides/python/contrib.layers) for **this** layer, but you can still use TensorFlow's [Neural Network](https://www.tensorflow.org/api_docs/python/tf/nn) package. You may still use the shortcut option for all the **other** layers."
   ]
  },
  {
   "cell_type": "code",
   "execution_count": 46,
   "metadata": {
    "collapsed": false,
    "deletable": true,
    "editable": true
   },
   "outputs": [
    {
     "name": "stdout",
     "output_type": "stream",
     "text": [
      "Tests Passed\n"
     ]
    }
   ],
   "source": [
    "def conv2d_maxpool(x_tensor, conv_num_outputs, conv_ksize, conv_strides, pool_ksize, pool_strides):\n",
    "    \"\"\"\n",
    "    Apply convolution then max pooling to x_tensor\n",
    "    :param x_tensor: TensorFlow Tensor\n",
    "    :param conv_num_outputs: Number of outputs for the convolutional layer\n",
    "    :param conv_ksize: kernal size 2-D Tuple for the convolutional layer\n",
    "    :param conv_strides: Stride 2-D Tuple for convolution\n",
    "    :param pool_ksize: kernal size 2-D Tuple for pool\n",
    "    :param pool_strides: Stride 2-D Tuple for pool\n",
    "    : return: A tensor that represents convolution and max pooling of x_tensor\n",
    "    \"\"\"\n",
    "    # TODO: Implement Function\n",
    "    # calculate the weights and bias\n",
    "    x_shape = x_tensor.get_shape().as_list()[3]    \n",
    "    weights = tf.Variable(tf.random_normal([conv_ksize[0], conv_ksize[1], x_shape, conv_num_outputs], stddev=0.1))\n",
    "    bias = tf.Variable(tf.zeros([conv_num_outputs]))\n",
    "                              \n",
    "    # get the convolution\n",
    "    conv_2d = tf.nn.conv2d(x_tensor, weights, [1, conv_strides[0], conv_strides[1], 1], padding='SAME')\n",
    "    \n",
    "    # add bias to the convolution\n",
    "    conv_2d = tf.nn.bias_add(conv_2d, bias)\n",
    "    \n",
    "    # nonlinear activation to the convolution\n",
    "    conv_2d = tf.nn.relu(conv_2d)\n",
    "            \n",
    "    # maxpool\n",
    "    conv_2d = tf.nn.max_pool(conv_2d, [1, pool_ksize[0], pool_ksize[1], 1], [1, pool_strides[0], pool_strides[1], 1], padding='SAME')\n",
    "    \n",
    "    return conv_2d \n",
    "\n",
    "\n",
    "\"\"\"\n",
    "DON'T MODIFY ANYTHING IN THIS CELL THAT IS BELOW THIS LINE\n",
    "\"\"\"\n",
    "tests.test_con_pool(conv2d_maxpool)"
   ]
  },
  {
   "cell_type": "markdown",
   "metadata": {
    "deletable": true,
    "editable": true
   },
   "source": [
    "### Flatten Layer\n",
    "Implement the `flatten` function to change the dimension of `x_tensor` from a 4-D tensor to a 2-D tensor.  The output should be the shape (*Batch Size*, *Flattened Image Size*). Shortcut option: you can use classes from the [TensorFlow Layers](https://www.tensorflow.org/api_docs/python/tf/layers) or [TensorFlow Layers (contrib)](https://www.tensorflow.org/api_guides/python/contrib.layers) packages for this layer. For more of a challenge, only use other TensorFlow packages."
   ]
  },
  {
   "cell_type": "code",
   "execution_count": 47,
   "metadata": {
    "collapsed": false,
    "deletable": true,
    "editable": true
   },
   "outputs": [
    {
     "name": "stdout",
     "output_type": "stream",
     "text": [
      "Tests Passed\n"
     ]
    }
   ],
   "source": [
    "def flatten(x_tensor):\n",
    "    \"\"\"\n",
    "    Flatten x_tensor to (Batch Size, Flattened Image Size)\n",
    "    : x_tensor: A tensor of size (Batch Size, ...), where ... are the image dimensions.\n",
    "    : return: A tensor of size (Batch Size, Flattened Image Size).\n",
    "    \"\"\"\n",
    "    # TODO: Implement Function\n",
    "    x_shape = x_tensor.get_shape().as_list()\n",
    "    model = tf.reshape(x_tensor, [-1, x_shape[1] * x_shape[2] * x_shape[3]])\n",
    "    return model\n",
    "\n",
    "\n",
    "\"\"\"\n",
    "DON'T MODIFY ANYTHING IN THIS CELL THAT IS BELOW THIS LINE\n",
    "\"\"\"\n",
    "tests.test_flatten(flatten)"
   ]
  },
  {
   "cell_type": "markdown",
   "metadata": {
    "deletable": true,
    "editable": true
   },
   "source": [
    "### Fully-Connected Layer\n",
    "Implement the `fully_conn` function to apply a fully connected layer to `x_tensor` with the shape (*Batch Size*, *num_outputs*). Shortcut option: you can use classes from the [TensorFlow Layers](https://www.tensorflow.org/api_docs/python/tf/layers) or [TensorFlow Layers (contrib)](https://www.tensorflow.org/api_guides/python/contrib.layers) packages for this layer. For more of a challenge, only use other TensorFlow packages."
   ]
  },
  {
   "cell_type": "code",
   "execution_count": 49,
   "metadata": {
    "collapsed": false,
    "deletable": true,
    "editable": true
   },
   "outputs": [
    {
     "name": "stdout",
     "output_type": "stream",
     "text": [
      "Tests Passed\n"
     ]
    }
   ],
   "source": [
    "def fully_conn(x_tensor, num_outputs):\n",
    "    \"\"\"\n",
    "    Apply a fully connected layer to x_tensor using weight and bias\n",
    "    : x_tensor: A 2-D tensor where the first dimension is batch size.\n",
    "    : num_outputs: The number of output that the new tensor should be.\n",
    "    : return: A 2-D tensor where the second dimension is num_outputs.\n",
    "    \"\"\"\n",
    "    # TODO: Implement Function\n",
    "    x_shape = (int(x_tensor.get_shape().as_list()[1]), num_outputs)\n",
    "    weights = tf.Variable(tf.random_normal(x_shape, stddev=0.1))\n",
    "    bias = tf.Variable(tf.zeros(num_outputs))\n",
    "    model = tf.add(tf.matmul(x_tensor, weights), bias)\n",
    "    model = tf.nn.relu(model)\n",
    "    return model\n",
    "\n",
    "\n",
    "\"\"\"\n",
    "DON'T MODIFY ANYTHING IN THIS CELL THAT IS BELOW THIS LINE\n",
    "\"\"\"\n",
    "tests.test_fully_conn(fully_conn)"
   ]
  },
  {
   "cell_type": "markdown",
   "metadata": {
    "deletable": true,
    "editable": true
   },
   "source": [
    "### Output Layer\n",
    "Implement the `output` function to apply a fully connected layer to `x_tensor` with the shape (*Batch Size*, *num_outputs*). Shortcut option: you can use classes from the [TensorFlow Layers](https://www.tensorflow.org/api_docs/python/tf/layers) or [TensorFlow Layers (contrib)](https://www.tensorflow.org/api_guides/python/contrib.layers) packages for this layer. For more of a challenge, only use other TensorFlow packages.\n",
    "\n",
    "**Note:** Activation, softmax, or cross entropy should **not** be applied to this."
   ]
  },
  {
   "cell_type": "code",
   "execution_count": 50,
   "metadata": {
    "collapsed": false,
    "deletable": true,
    "editable": true
   },
   "outputs": [
    {
     "name": "stdout",
     "output_type": "stream",
     "text": [
      "Tests Passed\n"
     ]
    }
   ],
   "source": [
    "def output(x_tensor, num_outputs):\n",
    "    \"\"\"\n",
    "    Apply a output layer to x_tensor using weight and bias\n",
    "    : x_tensor: A 2-D tensor where the first dimension is batch size.\n",
    "    : num_outputs: The number of output that the new tensor should be.\n",
    "    : return: A 2-D tensor where the second dimension is num_outputs.\n",
    "    \"\"\"\n",
    "    # TODO: Implement Function\n",
    "    x_shape = (int(x_tensor.get_shape().as_list()[1]), num_outputs)\n",
    "    weights = tf.Variable(tf.random_normal(x_shape, stddev=0.1))\n",
    "    bias = tf.Variable(tf.zeros(num_outputs))\n",
    "    model = tf.add(tf.matmul(x_tensor, weights), bias)\n",
    "    return model\n",
    "\n",
    "\n",
    "\"\"\"\n",
    "DON'T MODIFY ANYTHING IN THIS CELL THAT IS BELOW THIS LINE\n",
    "\"\"\"\n",
    "tests.test_output(output)"
   ]
  },
  {
   "cell_type": "markdown",
   "metadata": {
    "deletable": true,
    "editable": true
   },
   "source": [
    "### Create Convolutional Model\n",
    "Implement the function `conv_net` to create a convolutional neural network model. The function takes in a batch of images, `x`, and outputs logits.  Use the layers you created above to create this model:\n",
    "\n",
    "* Apply 1, 2, or 3 Convolution and Max Pool layers\n",
    "* Apply a Flatten Layer\n",
    "* Apply 1, 2, or 3 Fully Connected Layers\n",
    "* Apply an Output Layer\n",
    "* Return the output\n",
    "* Apply [TensorFlow's Dropout](https://www.tensorflow.org/api_docs/python/tf/nn/dropout) to one or more layers in the model using `keep_prob`. "
   ]
  },
  {
   "cell_type": "code",
   "execution_count": 51,
   "metadata": {
    "collapsed": false,
    "deletable": true,
    "editable": true
   },
   "outputs": [
    {
     "name": "stdout",
     "output_type": "stream",
     "text": [
      "Neural Network Built!\n"
     ]
    }
   ],
   "source": [
    "def conv_net(x, keep_prob):\n",
    "    \"\"\"\n",
    "    Create a convolutional neural network model\n",
    "    : x: Placeholder tensor that holds image data.\n",
    "    : keep_prob: Placeholder tensor that hold dropout keep probability.\n",
    "    : return: Tensor that represents logits\n",
    "    \"\"\"\n",
    "    model = x\n",
    "    # TODO: Apply 1, 2, or 3 Convolution and Max Pool layers\n",
    "    #    Play around with different number of outputs, kernel size and stride\n",
    "    # Function Definition from Above:\n",
    "    #    conv2d_maxpool(x_tensor, conv_num_outputs, conv_ksize, conv_strides, pool_ksize, pool_strides)\n",
    "    model = conv2d_maxpool(model, 32, (3, 3), (1, 1), (2, 2), (2, 2))\n",
    "    model = conv2d_maxpool(model, 64, (3, 3), (1, 1), (2, 2), (2, 2))\n",
    "    model = conv2d_maxpool(model, 128, (3, 3), (1, 1), (2, 2), (2, 2))\n",
    "    \n",
    "\n",
    "    # TODO: Apply a Flatten Layer\n",
    "    # Function Definition from Above:\n",
    "    #   flatten(x_tensor)\n",
    "    model = flatten(model)\n",
    "    \n",
    "\n",
    "    # TODO: Apply 1, 2, or 3 Fully Connected Layers\n",
    "    #    Play around with different number of outputs\n",
    "    # Function Definition from Above:\n",
    "    #   fully_conn(x_tensor, num_outputs)\n",
    "    model = fully_conn(model, 256)\n",
    "    model = tf.nn.dropout(model, keep_prob)\n",
    "    model = fully_conn(model, 512)\n",
    "    model = tf.nn.dropout(model, keep_prob)\n",
    "    \n",
    "    \n",
    "    # TODO: Apply an Output Layer\n",
    "    #    Set this to the number of classes\n",
    "    # Function Definition from Above:\n",
    "    #   output(x_tensor, num_outputs)\n",
    "    model = output(model, 10)\n",
    "    \n",
    "    \n",
    "    # TODO: return output\n",
    "    return model\n",
    "\n",
    "\n",
    "\"\"\"\n",
    "DON'T MODIFY ANYTHING IN THIS CELL THAT IS BELOW THIS LINE\n",
    "\"\"\"\n",
    "\n",
    "##############################\n",
    "## Build the Neural Network ##\n",
    "##############################\n",
    "\n",
    "# Remove previous weights, bias, inputs, etc..\n",
    "tf.reset_default_graph()\n",
    "\n",
    "# Inputs\n",
    "x = neural_net_image_input((32, 32, 3))\n",
    "y = neural_net_label_input(10)\n",
    "keep_prob = neural_net_keep_prob_input()\n",
    "\n",
    "# Model\n",
    "logits = conv_net(x, keep_prob)\n",
    "\n",
    "# Name logits Tensor, so that is can be loaded from disk after training\n",
    "logits = tf.identity(logits, name='logits')\n",
    "\n",
    "# Loss and Optimizer\n",
    "cost = tf.reduce_mean(tf.nn.softmax_cross_entropy_with_logits(logits=logits, labels=y))\n",
    "optimizer = tf.train.AdamOptimizer().minimize(cost)\n",
    "\n",
    "# Accuracy\n",
    "correct_pred = tf.equal(tf.argmax(logits, 1), tf.argmax(y, 1))\n",
    "accuracy = tf.reduce_mean(tf.cast(correct_pred, tf.float32), name='accuracy')\n",
    "\n",
    "tests.test_conv_net(conv_net)"
   ]
  },
  {
   "cell_type": "markdown",
   "metadata": {
    "deletable": true,
    "editable": true
   },
   "source": [
    "## Train the Neural Network\n",
    "### Single Optimization\n",
    "Implement the function `train_neural_network` to do a single optimization.  The optimization should use `optimizer` to optimize in `session` with a `feed_dict` of the following:\n",
    "* `x` for image input\n",
    "* `y` for labels\n",
    "* `keep_prob` for keep probability for dropout\n",
    "\n",
    "This function will be called for each batch, so `tf.global_variables_initializer()` has already been called.\n",
    "\n",
    "Note: Nothing needs to be returned. This function is only optimizing the neural network."
   ]
  },
  {
   "cell_type": "code",
   "execution_count": 52,
   "metadata": {
    "collapsed": false,
    "deletable": true,
    "editable": true
   },
   "outputs": [
    {
     "name": "stdout",
     "output_type": "stream",
     "text": [
      "Tests Passed\n"
     ]
    }
   ],
   "source": [
    "def train_neural_network(session, optimizer, keep_probability, feature_batch, label_batch):\n",
    "    \"\"\"\n",
    "    Optimize the session on a batch of images and labels\n",
    "    : session: Current TensorFlow session\n",
    "    : optimizer: TensorFlow optimizer function\n",
    "    : keep_probability: keep probability\n",
    "    : feature_batch: Batch of Numpy image data\n",
    "    : label_batch: Batch of Numpy label data\n",
    "    \"\"\"\n",
    "    # TODO: Implement Function\n",
    "    session.run(optimizer, feed_dict={\n",
    "        x: feature_batch,\n",
    "        y: label_batch,\n",
    "        keep_prob: keep_probability\n",
    "    })\n",
    "\n",
    "\n",
    "\"\"\"\n",
    "DON'T MODIFY ANYTHING IN THIS CELL THAT IS BELOW THIS LINE\n",
    "\"\"\"\n",
    "tests.test_train_nn(train_neural_network)"
   ]
  },
  {
   "cell_type": "markdown",
   "metadata": {
    "deletable": true,
    "editable": true
   },
   "source": [
    "### Show Stats\n",
    "Implement the function `print_stats` to print loss and validation accuracy.  Use the global variables `valid_features` and `valid_labels` to calculate validation accuracy.  Use a keep probability of `1.0` to calculate the loss and validation accuracy."
   ]
  },
  {
   "cell_type": "code",
   "execution_count": 53,
   "metadata": {
    "collapsed": false,
    "deletable": true,
    "editable": true
   },
   "outputs": [],
   "source": [
    "def print_stats(session, feature_batch, label_batch, cost, accuracy):\n",
    "    \"\"\"\n",
    "    Print information about loss and validation accuracy\n",
    "    : session: Current TensorFlow session\n",
    "    : feature_batch: Batch of Numpy image data\n",
    "    : label_batch: Batch of Numpy label data\n",
    "    : cost: TensorFlow cost function\n",
    "    : accuracy: TensorFlow accuracy function\n",
    "    \"\"\"\n",
    "    # TODO: Implement Function\n",
    "    loss = session.run(cost, feed_dict={\n",
    "        x: feature_batch,\n",
    "        y: label_batch,\n",
    "        keep_prob: 1.0})\n",
    "    valid_acc = session.run(accuracy, feed_dict={\n",
    "        x: valid_features,\n",
    "        y: valid_labels,\n",
    "        keep_prob: 1.0})\n",
    "    print(\"Loss: {:>8.6f}, Validation Accuracy: {:>8.6f}\".format(loss, valid_acc))"
   ]
  },
  {
   "cell_type": "markdown",
   "metadata": {
    "deletable": true,
    "editable": true
   },
   "source": [
    "### Hyperparameters\n",
    "Tune the following parameters:\n",
    "* Set `epochs` to the number of iterations until the network stops learning or start overfitting\n",
    "* Set `batch_size` to the highest number that your machine has memory for.  Most people set them to common sizes of memory:\n",
    " * 64\n",
    " * 128\n",
    " * 256\n",
    " * ...\n",
    "* Set `keep_probability` to the probability of keeping a node using dropout"
   ]
  },
  {
   "cell_type": "code",
   "execution_count": 66,
   "metadata": {
    "collapsed": true,
    "deletable": true,
    "editable": true
   },
   "outputs": [],
   "source": [
    "# TODO: Tune Parameters\n",
    "epochs = 70 #50\n",
    "batch_size = 128 #256 #512\n",
    "keep_probability = 0.5"
   ]
  },
  {
   "cell_type": "markdown",
   "metadata": {
    "deletable": true,
    "editable": true
   },
   "source": [
    "### Train on a Single CIFAR-10 Batch\n",
    "Instead of training the neural network on all the CIFAR-10 batches of data, let's use a single batch. This should save time while you iterate on the model to get a better accuracy.  Once the final validation accuracy is 50% or greater, run the model on all the data in the next section."
   ]
  },
  {
   "cell_type": "code",
   "execution_count": 63,
   "metadata": {
    "collapsed": false,
    "deletable": true,
    "editable": true
   },
   "outputs": [
    {
     "name": "stdout",
     "output_type": "stream",
     "text": [
      "Checking the Training on a Single Batch...\n",
      "Epoch  1, CIFAR-10 Batch 1:  Loss: 2.115082, Validation Accuracy: 0.290000\n",
      "Epoch  2, CIFAR-10 Batch 1:  Loss: 1.995002, Validation Accuracy: 0.367600\n",
      "Epoch  3, CIFAR-10 Batch 1:  Loss: 1.787317, Validation Accuracy: 0.420200\n",
      "Epoch  4, CIFAR-10 Batch 1:  Loss: 1.525663, Validation Accuracy: 0.432800\n",
      "Epoch  5, CIFAR-10 Batch 1:  Loss: 1.437011, Validation Accuracy: 0.473600\n",
      "Epoch  6, CIFAR-10 Batch 1:  Loss: 1.288221, Validation Accuracy: 0.494600\n",
      "Epoch  7, CIFAR-10 Batch 1:  Loss: 1.198845, Validation Accuracy: 0.500400\n",
      "Epoch  8, CIFAR-10 Batch 1:  Loss: 1.038794, Validation Accuracy: 0.514600\n",
      "Epoch  9, CIFAR-10 Batch 1:  Loss: 0.987112, Validation Accuracy: 0.513400\n",
      "Epoch 10, CIFAR-10 Batch 1:  Loss: 0.894651, Validation Accuracy: 0.507200\n",
      "Epoch 11, CIFAR-10 Batch 1:  Loss: 0.779624, Validation Accuracy: 0.530200\n",
      "Epoch 12, CIFAR-10 Batch 1:  Loss: 0.689112, Validation Accuracy: 0.556600\n",
      "Epoch 13, CIFAR-10 Batch 1:  Loss: 0.620178, Validation Accuracy: 0.556800\n",
      "Epoch 14, CIFAR-10 Batch 1:  Loss: 0.519534, Validation Accuracy: 0.575200\n",
      "Epoch 15, CIFAR-10 Batch 1:  Loss: 0.517835, Validation Accuracy: 0.563200\n",
      "Epoch 16, CIFAR-10 Batch 1:  Loss: 0.406730, Validation Accuracy: 0.576600\n",
      "Epoch 17, CIFAR-10 Batch 1:  Loss: 0.370212, Validation Accuracy: 0.571000\n",
      "Epoch 18, CIFAR-10 Batch 1:  Loss: 0.358415, Validation Accuracy: 0.595200\n",
      "Epoch 19, CIFAR-10 Batch 1:  Loss: 0.301996, Validation Accuracy: 0.582200\n",
      "Epoch 20, CIFAR-10 Batch 1:  Loss: 0.316493, Validation Accuracy: 0.579200\n",
      "Epoch 21, CIFAR-10 Batch 1:  Loss: 0.292899, Validation Accuracy: 0.568000\n",
      "Epoch 22, CIFAR-10 Batch 1:  Loss: 0.218523, Validation Accuracy: 0.579000\n",
      "Epoch 23, CIFAR-10 Batch 1:  Loss: 0.239729, Validation Accuracy: 0.589400\n",
      "Epoch 24, CIFAR-10 Batch 1:  Loss: 0.163113, Validation Accuracy: 0.588600\n",
      "Epoch 25, CIFAR-10 Batch 1:  Loss: 0.112083, Validation Accuracy: 0.594600\n",
      "Epoch 26, CIFAR-10 Batch 1:  Loss: 0.132498, Validation Accuracy: 0.591200\n",
      "Epoch 27, CIFAR-10 Batch 1:  Loss: 0.074157, Validation Accuracy: 0.598000\n",
      "Epoch 28, CIFAR-10 Batch 1:  Loss: 0.087527, Validation Accuracy: 0.586200\n",
      "Epoch 29, CIFAR-10 Batch 1:  Loss: 0.061076, Validation Accuracy: 0.596000\n",
      "Epoch 30, CIFAR-10 Batch 1:  Loss: 0.058656, Validation Accuracy: 0.601400\n",
      "Epoch 31, CIFAR-10 Batch 1:  Loss: 0.047080, Validation Accuracy: 0.586800\n",
      "Epoch 32, CIFAR-10 Batch 1:  Loss: 0.037408, Validation Accuracy: 0.597600\n",
      "Epoch 33, CIFAR-10 Batch 1:  Loss: 0.048133, Validation Accuracy: 0.591000\n",
      "Epoch 34, CIFAR-10 Batch 1:  Loss: 0.026236, Validation Accuracy: 0.597600\n",
      "Epoch 35, CIFAR-10 Batch 1:  Loss: 0.020600, Validation Accuracy: 0.585200\n",
      "Epoch 36, CIFAR-10 Batch 1:  Loss: 0.018577, Validation Accuracy: 0.590400\n",
      "Epoch 37, CIFAR-10 Batch 1:  Loss: 0.018178, Validation Accuracy: 0.598200\n",
      "Epoch 38, CIFAR-10 Batch 1:  Loss: 0.014168, Validation Accuracy: 0.580400\n",
      "Epoch 39, CIFAR-10 Batch 1:  Loss: 0.012570, Validation Accuracy: 0.584400\n",
      "Epoch 40, CIFAR-10 Batch 1:  Loss: 0.009825, Validation Accuracy: 0.589800\n",
      "Epoch 41, CIFAR-10 Batch 1:  Loss: 0.008318, Validation Accuracy: 0.604200\n",
      "Epoch 42, CIFAR-10 Batch 1:  Loss: 0.005271, Validation Accuracy: 0.593800\n",
      "Epoch 43, CIFAR-10 Batch 1:  Loss: 0.008767, Validation Accuracy: 0.600600\n",
      "Epoch 44, CIFAR-10 Batch 1:  Loss: 0.014162, Validation Accuracy: 0.577800\n",
      "Epoch 45, CIFAR-10 Batch 1:  Loss: 0.012499, Validation Accuracy: 0.591600\n",
      "Epoch 46, CIFAR-10 Batch 1:  Loss: 0.002690, Validation Accuracy: 0.593400\n",
      "Epoch 47, CIFAR-10 Batch 1:  Loss: 0.002770, Validation Accuracy: 0.600800\n",
      "Epoch 48, CIFAR-10 Batch 1:  Loss: 0.004998, Validation Accuracy: 0.594800\n",
      "Epoch 49, CIFAR-10 Batch 1:  Loss: 0.003301, Validation Accuracy: 0.582000\n",
      "Epoch 50, CIFAR-10 Batch 1:  Loss: 0.003272, Validation Accuracy: 0.599400\n",
      "Epoch 51, CIFAR-10 Batch 1:  Loss: 0.003435, Validation Accuracy: 0.592000\n",
      "Epoch 52, CIFAR-10 Batch 1:  Loss: 0.010422, Validation Accuracy: 0.601800\n",
      "Epoch 53, CIFAR-10 Batch 1:  Loss: 0.003551, Validation Accuracy: 0.580000\n",
      "Epoch 54, CIFAR-10 Batch 1:  Loss: 0.001628, Validation Accuracy: 0.610200\n",
      "Epoch 55, CIFAR-10 Batch 1:  Loss: 0.001546, Validation Accuracy: 0.599800\n",
      "Epoch 56, CIFAR-10 Batch 1:  Loss: 0.001573, Validation Accuracy: 0.595000\n",
      "Epoch 57, CIFAR-10 Batch 1:  Loss: 0.001304, Validation Accuracy: 0.594800\n",
      "Epoch 58, CIFAR-10 Batch 1:  Loss: 0.003200, Validation Accuracy: 0.592400\n",
      "Epoch 59, CIFAR-10 Batch 1:  Loss: 0.001693, Validation Accuracy: 0.600400\n",
      "Epoch 60, CIFAR-10 Batch 1:  Loss: 0.001517, Validation Accuracy: 0.602000\n",
      "Epoch 61, CIFAR-10 Batch 1:  Loss: 0.000961, Validation Accuracy: 0.589800\n",
      "Epoch 62, CIFAR-10 Batch 1:  Loss: 0.000441, Validation Accuracy: 0.596800\n",
      "Epoch 63, CIFAR-10 Batch 1:  Loss: 0.000463, Validation Accuracy: 0.604600\n",
      "Epoch 64, CIFAR-10 Batch 1:  Loss: 0.002422, Validation Accuracy: 0.602200\n",
      "Epoch 65, CIFAR-10 Batch 1:  Loss: 0.001504, Validation Accuracy: 0.610600\n",
      "Epoch 66, CIFAR-10 Batch 1:  Loss: 0.000467, Validation Accuracy: 0.598600\n",
      "Epoch 67, CIFAR-10 Batch 1:  Loss: 0.000558, Validation Accuracy: 0.605200\n",
      "Epoch 68, CIFAR-10 Batch 1:  Loss: 0.000855, Validation Accuracy: 0.599800\n",
      "Epoch 69, CIFAR-10 Batch 1:  Loss: 0.001685, Validation Accuracy: 0.601600\n",
      "Epoch 70, CIFAR-10 Batch 1:  Loss: 0.000981, Validation Accuracy: 0.608000\n"
     ]
    }
   ],
   "source": [
    "\"\"\"\n",
    "DON'T MODIFY ANYTHING IN THIS CELL\n",
    "\"\"\"\n",
    "print('Checking the Training on a Single Batch...')\n",
    "with tf.Session() as sess:\n",
    "    # Initializing the variables\n",
    "    sess.run(tf.global_variables_initializer())\n",
    "    \n",
    "    # Training cycle\n",
    "    for epoch in range(epochs):\n",
    "        batch_i = 1\n",
    "        for batch_features, batch_labels in helper.load_preprocess_training_batch(batch_i, batch_size):\n",
    "            train_neural_network(sess, optimizer, keep_probability, batch_features, batch_labels)\n",
    "        print('Epoch {:>2}, CIFAR-10 Batch {}:  '.format(epoch + 1, batch_i), end='')\n",
    "        print_stats(sess, batch_features, batch_labels, cost, accuracy)"
   ]
  },
  {
   "cell_type": "markdown",
   "metadata": {
    "deletable": true,
    "editable": true
   },
   "source": [
    "### Fully Train the Model\n",
    "Now that you got a good accuracy with a single CIFAR-10 batch, try it with all five batches."
   ]
  },
  {
   "cell_type": "code",
   "execution_count": 64,
   "metadata": {
    "collapsed": false,
    "deletable": true,
    "editable": true
   },
   "outputs": [
    {
     "name": "stdout",
     "output_type": "stream",
     "text": [
      "Training...\n",
      "Epoch  1, CIFAR-10 Batch 1:  Loss: 2.158523, Validation Accuracy: 0.298600\n",
      "Epoch  1, CIFAR-10 Batch 2:  Loss: 1.837174, Validation Accuracy: 0.363200\n",
      "Epoch  1, CIFAR-10 Batch 3:  Loss: 1.562257, Validation Accuracy: 0.402200\n",
      "Epoch  1, CIFAR-10 Batch 4:  Loss: 1.628755, Validation Accuracy: 0.449200\n",
      "Epoch  1, CIFAR-10 Batch 5:  Loss: 1.633681, Validation Accuracy: 0.454200\n",
      "Epoch  2, CIFAR-10 Batch 1:  Loss: 1.671287, Validation Accuracy: 0.470400\n",
      "Epoch  2, CIFAR-10 Batch 2:  Loss: 1.462608, Validation Accuracy: 0.483600\n",
      "Epoch  2, CIFAR-10 Batch 3:  Loss: 1.341907, Validation Accuracy: 0.474800\n",
      "Epoch  2, CIFAR-10 Batch 4:  Loss: 1.317909, Validation Accuracy: 0.514600\n",
      "Epoch  2, CIFAR-10 Batch 5:  Loss: 1.362960, Validation Accuracy: 0.518200\n",
      "Epoch  3, CIFAR-10 Batch 1:  Loss: 1.297161, Validation Accuracy: 0.551600\n",
      "Epoch  3, CIFAR-10 Batch 2:  Loss: 1.240488, Validation Accuracy: 0.540200\n",
      "Epoch  3, CIFAR-10 Batch 3:  Loss: 1.019692, Validation Accuracy: 0.566800\n",
      "Epoch  3, CIFAR-10 Batch 4:  Loss: 1.044867, Validation Accuracy: 0.578800\n",
      "Epoch  3, CIFAR-10 Batch 5:  Loss: 1.148315, Validation Accuracy: 0.572200\n",
      "Epoch  4, CIFAR-10 Batch 1:  Loss: 1.045242, Validation Accuracy: 0.587600\n",
      "Epoch  4, CIFAR-10 Batch 2:  Loss: 1.043098, Validation Accuracy: 0.590600\n",
      "Epoch  4, CIFAR-10 Batch 3:  Loss: 0.843060, Validation Accuracy: 0.591400\n",
      "Epoch  4, CIFAR-10 Batch 4:  Loss: 0.951040, Validation Accuracy: 0.588800\n",
      "Epoch  4, CIFAR-10 Batch 5:  Loss: 1.007220, Validation Accuracy: 0.627400\n",
      "Epoch  5, CIFAR-10 Batch 1:  Loss: 0.921956, Validation Accuracy: 0.628600\n",
      "Epoch  5, CIFAR-10 Batch 2:  Loss: 0.916629, Validation Accuracy: 0.632000\n",
      "Epoch  5, CIFAR-10 Batch 3:  Loss: 0.775799, Validation Accuracy: 0.619400\n",
      "Epoch  5, CIFAR-10 Batch 4:  Loss: 0.819290, Validation Accuracy: 0.627000\n",
      "Epoch  5, CIFAR-10 Batch 5:  Loss: 0.828560, Validation Accuracy: 0.647000\n",
      "Epoch  6, CIFAR-10 Batch 1:  Loss: 0.815156, Validation Accuracy: 0.661800\n",
      "Epoch  6, CIFAR-10 Batch 2:  Loss: 0.748431, Validation Accuracy: 0.670600\n",
      "Epoch  6, CIFAR-10 Batch 3:  Loss: 0.636603, Validation Accuracy: 0.655400\n",
      "Epoch  6, CIFAR-10 Batch 4:  Loss: 0.735888, Validation Accuracy: 0.656000\n",
      "Epoch  6, CIFAR-10 Batch 5:  Loss: 0.674401, Validation Accuracy: 0.671400\n",
      "Epoch  7, CIFAR-10 Batch 1:  Loss: 0.603566, Validation Accuracy: 0.671800\n",
      "Epoch  7, CIFAR-10 Batch 2:  Loss: 0.642525, Validation Accuracy: 0.680400\n",
      "Epoch  7, CIFAR-10 Batch 3:  Loss: 0.477574, Validation Accuracy: 0.672600\n",
      "Epoch  7, CIFAR-10 Batch 4:  Loss: 0.733006, Validation Accuracy: 0.684800\n",
      "Epoch  7, CIFAR-10 Batch 5:  Loss: 0.570079, Validation Accuracy: 0.685000\n",
      "Epoch  8, CIFAR-10 Batch 1:  Loss: 0.551313, Validation Accuracy: 0.691800\n",
      "Epoch  8, CIFAR-10 Batch 2:  Loss: 0.522696, Validation Accuracy: 0.680600\n",
      "Epoch  8, CIFAR-10 Batch 3:  Loss: 0.452870, Validation Accuracy: 0.677200\n",
      "Epoch  8, CIFAR-10 Batch 4:  Loss: 0.613657, Validation Accuracy: 0.683800\n",
      "Epoch  8, CIFAR-10 Batch 5:  Loss: 0.466071, Validation Accuracy: 0.702600\n",
      "Epoch  9, CIFAR-10 Batch 1:  Loss: 0.570770, Validation Accuracy: 0.697800\n",
      "Epoch  9, CIFAR-10 Batch 2:  Loss: 0.514880, Validation Accuracy: 0.697600\n",
      "Epoch  9, CIFAR-10 Batch 3:  Loss: 0.347695, Validation Accuracy: 0.691600\n",
      "Epoch  9, CIFAR-10 Batch 4:  Loss: 0.414957, Validation Accuracy: 0.701000\n",
      "Epoch  9, CIFAR-10 Batch 5:  Loss: 0.379638, Validation Accuracy: 0.680000\n",
      "Epoch 10, CIFAR-10 Batch 1:  Loss: 0.403038, Validation Accuracy: 0.706800\n",
      "Epoch 10, CIFAR-10 Batch 2:  Loss: 0.415626, Validation Accuracy: 0.706800\n",
      "Epoch 10, CIFAR-10 Batch 3:  Loss: 0.300513, Validation Accuracy: 0.705400\n",
      "Epoch 10, CIFAR-10 Batch 4:  Loss: 0.370904, Validation Accuracy: 0.711600\n",
      "Epoch 10, CIFAR-10 Batch 5:  Loss: 0.314615, Validation Accuracy: 0.715600\n",
      "Epoch 11, CIFAR-10 Batch 1:  Loss: 0.339087, Validation Accuracy: 0.716800\n",
      "Epoch 11, CIFAR-10 Batch 2:  Loss: 0.365335, Validation Accuracy: 0.708000\n",
      "Epoch 11, CIFAR-10 Batch 3:  Loss: 0.267342, Validation Accuracy: 0.709400\n",
      "Epoch 11, CIFAR-10 Batch 4:  Loss: 0.336673, Validation Accuracy: 0.709600\n",
      "Epoch 11, CIFAR-10 Batch 5:  Loss: 0.263186, Validation Accuracy: 0.709800\n",
      "Epoch 12, CIFAR-10 Batch 1:  Loss: 0.290605, Validation Accuracy: 0.718800\n",
      "Epoch 12, CIFAR-10 Batch 2:  Loss: 0.366572, Validation Accuracy: 0.715000\n",
      "Epoch 12, CIFAR-10 Batch 3:  Loss: 0.211227, Validation Accuracy: 0.721200\n",
      "Epoch 12, CIFAR-10 Batch 4:  Loss: 0.273587, Validation Accuracy: 0.718800\n",
      "Epoch 12, CIFAR-10 Batch 5:  Loss: 0.262293, Validation Accuracy: 0.701800\n",
      "Epoch 13, CIFAR-10 Batch 1:  Loss: 0.250765, Validation Accuracy: 0.718200\n",
      "Epoch 13, CIFAR-10 Batch 2:  Loss: 0.263926, Validation Accuracy: 0.722800\n",
      "Epoch 13, CIFAR-10 Batch 3:  Loss: 0.198448, Validation Accuracy: 0.729200\n",
      "Epoch 13, CIFAR-10 Batch 4:  Loss: 0.225403, Validation Accuracy: 0.729000\n",
      "Epoch 13, CIFAR-10 Batch 5:  Loss: 0.210114, Validation Accuracy: 0.697600\n",
      "Epoch 14, CIFAR-10 Batch 1:  Loss: 0.212486, Validation Accuracy: 0.723200\n",
      "Epoch 14, CIFAR-10 Batch 2:  Loss: 0.249327, Validation Accuracy: 0.723200\n",
      "Epoch 14, CIFAR-10 Batch 3:  Loss: 0.195781, Validation Accuracy: 0.713800\n",
      "Epoch 14, CIFAR-10 Batch 4:  Loss: 0.219551, Validation Accuracy: 0.711800\n",
      "Epoch 14, CIFAR-10 Batch 5:  Loss: 0.173356, Validation Accuracy: 0.731400\n",
      "Epoch 15, CIFAR-10 Batch 1:  Loss: 0.192857, Validation Accuracy: 0.713000\n",
      "Epoch 15, CIFAR-10 Batch 2:  Loss: 0.222704, Validation Accuracy: 0.724600\n",
      "Epoch 15, CIFAR-10 Batch 3:  Loss: 0.188548, Validation Accuracy: 0.713800\n",
      "Epoch 15, CIFAR-10 Batch 4:  Loss: 0.197993, Validation Accuracy: 0.725400\n",
      "Epoch 15, CIFAR-10 Batch 5:  Loss: 0.150225, Validation Accuracy: 0.716800\n",
      "Epoch 16, CIFAR-10 Batch 1:  Loss: 0.139129, Validation Accuracy: 0.718600\n",
      "Epoch 16, CIFAR-10 Batch 2:  Loss: 0.233851, Validation Accuracy: 0.723000\n",
      "Epoch 16, CIFAR-10 Batch 3:  Loss: 0.154996, Validation Accuracy: 0.737600\n",
      "Epoch 16, CIFAR-10 Batch 4:  Loss: 0.160283, Validation Accuracy: 0.731800\n",
      "Epoch 16, CIFAR-10 Batch 5:  Loss: 0.146787, Validation Accuracy: 0.714600\n",
      "Epoch 17, CIFAR-10 Batch 1:  Loss: 0.158439, Validation Accuracy: 0.727000\n",
      "Epoch 17, CIFAR-10 Batch 2:  Loss: 0.166670, Validation Accuracy: 0.729600\n",
      "Epoch 17, CIFAR-10 Batch 3:  Loss: 0.148243, Validation Accuracy: 0.713800\n",
      "Epoch 17, CIFAR-10 Batch 4:  Loss: 0.153046, Validation Accuracy: 0.723600\n",
      "Epoch 17, CIFAR-10 Batch 5:  Loss: 0.120647, Validation Accuracy: 0.720000\n",
      "Epoch 18, CIFAR-10 Batch 1:  Loss: 0.125195, Validation Accuracy: 0.726400\n",
      "Epoch 18, CIFAR-10 Batch 2:  Loss: 0.179366, Validation Accuracy: 0.727600\n",
      "Epoch 18, CIFAR-10 Batch 3:  Loss: 0.130709, Validation Accuracy: 0.728200\n",
      "Epoch 18, CIFAR-10 Batch 4:  Loss: 0.126803, Validation Accuracy: 0.728400\n",
      "Epoch 18, CIFAR-10 Batch 5:  Loss: 0.083860, Validation Accuracy: 0.725400\n",
      "Epoch 19, CIFAR-10 Batch 1:  Loss: 0.100965, Validation Accuracy: 0.725600\n",
      "Epoch 19, CIFAR-10 Batch 2:  Loss: 0.148081, Validation Accuracy: 0.728800\n",
      "Epoch 19, CIFAR-10 Batch 3:  Loss: 0.112770, Validation Accuracy: 0.736400\n",
      "Epoch 19, CIFAR-10 Batch 4:  Loss: 0.127433, Validation Accuracy: 0.715800\n",
      "Epoch 19, CIFAR-10 Batch 5:  Loss: 0.092631, Validation Accuracy: 0.725000\n",
      "Epoch 20, CIFAR-10 Batch 1:  Loss: 0.097508, Validation Accuracy: 0.728400\n",
      "Epoch 20, CIFAR-10 Batch 2:  Loss: 0.184693, Validation Accuracy: 0.727200\n",
      "Epoch 20, CIFAR-10 Batch 3:  Loss: 0.094202, Validation Accuracy: 0.725000\n",
      "Epoch 20, CIFAR-10 Batch 4:  Loss: 0.119249, Validation Accuracy: 0.720800\n",
      "Epoch 20, CIFAR-10 Batch 5:  Loss: 0.089821, Validation Accuracy: 0.719400\n",
      "Epoch 21, CIFAR-10 Batch 1:  Loss: 0.110922, Validation Accuracy: 0.728800\n",
      "Epoch 21, CIFAR-10 Batch 2:  Loss: 0.131209, Validation Accuracy: 0.730200\n",
      "Epoch 21, CIFAR-10 Batch 3:  Loss: 0.064773, Validation Accuracy: 0.735000\n",
      "Epoch 21, CIFAR-10 Batch 4:  Loss: 0.091971, Validation Accuracy: 0.726000\n",
      "Epoch 21, CIFAR-10 Batch 5:  Loss: 0.066979, Validation Accuracy: 0.711800\n",
      "Epoch 22, CIFAR-10 Batch 1:  Loss: 0.107559, Validation Accuracy: 0.725600\n",
      "Epoch 22, CIFAR-10 Batch 2:  Loss: 0.085957, Validation Accuracy: 0.721800\n",
      "Epoch 22, CIFAR-10 Batch 3:  Loss: 0.068493, Validation Accuracy: 0.730800\n",
      "Epoch 22, CIFAR-10 Batch 4:  Loss: 0.103726, Validation Accuracy: 0.705600\n",
      "Epoch 22, CIFAR-10 Batch 5:  Loss: 0.055859, Validation Accuracy: 0.722200\n",
      "Epoch 23, CIFAR-10 Batch 1:  Loss: 0.086465, Validation Accuracy: 0.729400\n",
      "Epoch 23, CIFAR-10 Batch 2:  Loss: 0.116389, Validation Accuracy: 0.720200\n",
      "Epoch 23, CIFAR-10 Batch 3:  Loss: 0.049386, Validation Accuracy: 0.719800\n",
      "Epoch 23, CIFAR-10 Batch 4:  Loss: 0.065331, Validation Accuracy: 0.721000\n",
      "Epoch 23, CIFAR-10 Batch 5:  Loss: 0.053093, Validation Accuracy: 0.728800\n",
      "Epoch 24, CIFAR-10 Batch 1:  Loss: 0.072358, Validation Accuracy: 0.730800\n",
      "Epoch 24, CIFAR-10 Batch 2:  Loss: 0.082567, Validation Accuracy: 0.737400\n",
      "Epoch 24, CIFAR-10 Batch 3:  Loss: 0.037263, Validation Accuracy: 0.730200\n",
      "Epoch 24, CIFAR-10 Batch 4:  Loss: 0.061790, Validation Accuracy: 0.722200\n",
      "Epoch 24, CIFAR-10 Batch 5:  Loss: 0.033561, Validation Accuracy: 0.728200\n",
      "Epoch 25, CIFAR-10 Batch 1:  Loss: 0.074556, Validation Accuracy: 0.734000\n",
      "Epoch 25, CIFAR-10 Batch 2:  Loss: 0.076277, Validation Accuracy: 0.718800\n",
      "Epoch 25, CIFAR-10 Batch 3:  Loss: 0.043296, Validation Accuracy: 0.733600\n",
      "Epoch 25, CIFAR-10 Batch 4:  Loss: 0.045908, Validation Accuracy: 0.725400\n",
      "Epoch 25, CIFAR-10 Batch 5:  Loss: 0.025641, Validation Accuracy: 0.731200\n",
      "Epoch 26, CIFAR-10 Batch 1:  Loss: 0.056446, Validation Accuracy: 0.719000\n",
      "Epoch 26, CIFAR-10 Batch 2:  Loss: 0.071341, Validation Accuracy: 0.730400\n",
      "Epoch 26, CIFAR-10 Batch 3:  Loss: 0.043640, Validation Accuracy: 0.729800\n",
      "Epoch 26, CIFAR-10 Batch 4:  Loss: 0.058706, Validation Accuracy: 0.733200\n",
      "Epoch 26, CIFAR-10 Batch 5:  Loss: 0.032144, Validation Accuracy: 0.723200\n",
      "Epoch 27, CIFAR-10 Batch 1:  Loss: 0.064310, Validation Accuracy: 0.732600\n",
      "Epoch 27, CIFAR-10 Batch 2:  Loss: 0.042427, Validation Accuracy: 0.722600\n",
      "Epoch 27, CIFAR-10 Batch 3:  Loss: 0.023218, Validation Accuracy: 0.736600\n",
      "Epoch 27, CIFAR-10 Batch 4:  Loss: 0.033286, Validation Accuracy: 0.739800\n",
      "Epoch 27, CIFAR-10 Batch 5:  Loss: 0.033543, Validation Accuracy: 0.739600\n",
      "Epoch 28, CIFAR-10 Batch 1:  Loss: 0.111521, Validation Accuracy: 0.722000\n",
      "Epoch 28, CIFAR-10 Batch 2:  Loss: 0.037275, Validation Accuracy: 0.730800\n",
      "Epoch 28, CIFAR-10 Batch 3:  Loss: 0.034585, Validation Accuracy: 0.721200\n",
      "Epoch 28, CIFAR-10 Batch 4:  Loss: 0.036387, Validation Accuracy: 0.728600\n",
      "Epoch 28, CIFAR-10 Batch 5:  Loss: 0.031640, Validation Accuracy: 0.738000\n",
      "Epoch 29, CIFAR-10 Batch 1:  Loss: 0.040496, Validation Accuracy: 0.731200\n",
      "Epoch 29, CIFAR-10 Batch 2:  Loss: 0.029009, Validation Accuracy: 0.718800\n",
      "Epoch 29, CIFAR-10 Batch 3:  Loss: 0.038549, Validation Accuracy: 0.729400\n",
      "Epoch 29, CIFAR-10 Batch 4:  Loss: 0.037817, Validation Accuracy: 0.736400\n",
      "Epoch 29, CIFAR-10 Batch 5:  Loss: 0.033652, Validation Accuracy: 0.732400\n",
      "Epoch 30, CIFAR-10 Batch 1:  Loss: 0.059960, Validation Accuracy: 0.734000\n",
      "Epoch 30, CIFAR-10 Batch 2:  Loss: 0.048799, Validation Accuracy: 0.734600\n",
      "Epoch 30, CIFAR-10 Batch 3:  Loss: 0.026335, Validation Accuracy: 0.726600\n",
      "Epoch 30, CIFAR-10 Batch 4:  Loss: 0.035224, Validation Accuracy: 0.737200\n",
      "Epoch 30, CIFAR-10 Batch 5:  Loss: 0.032703, Validation Accuracy: 0.727400\n",
      "Epoch 31, CIFAR-10 Batch 1:  Loss: 0.052688, Validation Accuracy: 0.731800\n",
      "Epoch 31, CIFAR-10 Batch 2:  Loss: 0.029668, Validation Accuracy: 0.725600\n",
      "Epoch 31, CIFAR-10 Batch 3:  Loss: 0.017857, Validation Accuracy: 0.738400\n",
      "Epoch 31, CIFAR-10 Batch 4:  Loss: 0.045455, Validation Accuracy: 0.727000\n",
      "Epoch 31, CIFAR-10 Batch 5:  Loss: 0.023269, Validation Accuracy: 0.737000\n",
      "Epoch 32, CIFAR-10 Batch 1:  Loss: 0.040258, Validation Accuracy: 0.727600\n",
      "Epoch 32, CIFAR-10 Batch 2:  Loss: 0.034819, Validation Accuracy: 0.739600\n",
      "Epoch 32, CIFAR-10 Batch 3:  Loss: 0.017514, Validation Accuracy: 0.731400\n",
      "Epoch 32, CIFAR-10 Batch 4:  Loss: 0.024518, Validation Accuracy: 0.744000\n",
      "Epoch 32, CIFAR-10 Batch 5:  Loss: 0.035117, Validation Accuracy: 0.728800\n",
      "Epoch 33, CIFAR-10 Batch 1:  Loss: 0.048704, Validation Accuracy: 0.730800\n",
      "Epoch 33, CIFAR-10 Batch 2:  Loss: 0.030811, Validation Accuracy: 0.719800\n",
      "Epoch 33, CIFAR-10 Batch 3:  Loss: 0.033698, Validation Accuracy: 0.731000\n",
      "Epoch 33, CIFAR-10 Batch 4:  Loss: 0.034214, Validation Accuracy: 0.733800\n",
      "Epoch 33, CIFAR-10 Batch 5:  Loss: 0.025566, Validation Accuracy: 0.728200\n",
      "Epoch 34, CIFAR-10 Batch 1:  Loss: 0.024081, Validation Accuracy: 0.737800\n",
      "Epoch 34, CIFAR-10 Batch 2:  Loss: 0.032900, Validation Accuracy: 0.715000\n",
      "Epoch 34, CIFAR-10 Batch 3:  Loss: 0.021198, Validation Accuracy: 0.735000\n",
      "Epoch 34, CIFAR-10 Batch 4:  Loss: 0.019521, Validation Accuracy: 0.742600\n",
      "Epoch 34, CIFAR-10 Batch 5:  Loss: 0.014732, Validation Accuracy: 0.730200\n",
      "Epoch 35, CIFAR-10 Batch 1:  Loss: 0.042323, Validation Accuracy: 0.733600\n",
      "Epoch 35, CIFAR-10 Batch 2:  Loss: 0.021992, Validation Accuracy: 0.733000\n",
      "Epoch 35, CIFAR-10 Batch 3:  Loss: 0.008458, Validation Accuracy: 0.738200\n",
      "Epoch 35, CIFAR-10 Batch 4:  Loss: 0.019937, Validation Accuracy: 0.735200\n",
      "Epoch 35, CIFAR-10 Batch 5:  Loss: 0.045306, Validation Accuracy: 0.729600\n",
      "Epoch 36, CIFAR-10 Batch 1:  Loss: 0.044236, Validation Accuracy: 0.724400\n",
      "Epoch 36, CIFAR-10 Batch 2:  Loss: 0.013647, Validation Accuracy: 0.725600\n",
      "Epoch 36, CIFAR-10 Batch 3:  Loss: 0.008439, Validation Accuracy: 0.721800\n",
      "Epoch 36, CIFAR-10 Batch 4:  Loss: 0.015860, Validation Accuracy: 0.738600\n",
      "Epoch 36, CIFAR-10 Batch 5:  Loss: 0.010313, Validation Accuracy: 0.734000\n",
      "Epoch 37, CIFAR-10 Batch 1:  Loss: 0.039186, Validation Accuracy: 0.734600\n",
      "Epoch 37, CIFAR-10 Batch 2:  Loss: 0.017053, Validation Accuracy: 0.742200\n",
      "Epoch 37, CIFAR-10 Batch 3:  Loss: 0.010491, Validation Accuracy: 0.740000\n",
      "Epoch 37, CIFAR-10 Batch 4:  Loss: 0.044105, Validation Accuracy: 0.742400\n",
      "Epoch 37, CIFAR-10 Batch 5:  Loss: 0.014746, Validation Accuracy: 0.734200\n",
      "Epoch 38, CIFAR-10 Batch 1:  Loss: 0.024872, Validation Accuracy: 0.716600\n",
      "Epoch 38, CIFAR-10 Batch 2:  Loss: 0.036410, Validation Accuracy: 0.735000\n",
      "Epoch 38, CIFAR-10 Batch 3:  Loss: 0.004912, Validation Accuracy: 0.732600\n",
      "Epoch 38, CIFAR-10 Batch 4:  Loss: 0.020508, Validation Accuracy: 0.739000\n",
      "Epoch 38, CIFAR-10 Batch 5:  Loss: 0.032861, Validation Accuracy: 0.735400\n",
      "Epoch 39, CIFAR-10 Batch 1:  Loss: 0.023559, Validation Accuracy: 0.721600\n",
      "Epoch 39, CIFAR-10 Batch 2:  Loss: 0.012307, Validation Accuracy: 0.742000\n",
      "Epoch 39, CIFAR-10 Batch 3:  Loss: 0.008487, Validation Accuracy: 0.735800\n",
      "Epoch 39, CIFAR-10 Batch 4:  Loss: 0.033236, Validation Accuracy: 0.739200\n",
      "Epoch 39, CIFAR-10 Batch 5:  Loss: 0.024358, Validation Accuracy: 0.739400\n",
      "Epoch 40, CIFAR-10 Batch 1:  Loss: 0.022501, Validation Accuracy: 0.712600\n",
      "Epoch 40, CIFAR-10 Batch 2:  Loss: 0.009233, Validation Accuracy: 0.737400\n",
      "Epoch 40, CIFAR-10 Batch 3:  Loss: 0.007991, Validation Accuracy: 0.737600\n",
      "Epoch 40, CIFAR-10 Batch 4:  Loss: 0.030067, Validation Accuracy: 0.739000\n",
      "Epoch 40, CIFAR-10 Batch 5:  Loss: 0.041751, Validation Accuracy: 0.726200\n",
      "Epoch 41, CIFAR-10 Batch 1:  Loss: 0.011145, Validation Accuracy: 0.738400\n",
      "Epoch 41, CIFAR-10 Batch 2:  Loss: 0.017090, Validation Accuracy: 0.734200\n",
      "Epoch 41, CIFAR-10 Batch 3:  Loss: 0.014609, Validation Accuracy: 0.732800\n",
      "Epoch 41, CIFAR-10 Batch 4:  Loss: 0.015067, Validation Accuracy: 0.745000\n",
      "Epoch 41, CIFAR-10 Batch 5:  Loss: 0.017159, Validation Accuracy: 0.742400\n",
      "Epoch 42, CIFAR-10 Batch 1:  Loss: 0.015701, Validation Accuracy: 0.724200\n",
      "Epoch 42, CIFAR-10 Batch 2:  Loss: 0.028668, Validation Accuracy: 0.732400\n",
      "Epoch 42, CIFAR-10 Batch 3:  Loss: 0.006952, Validation Accuracy: 0.737600\n",
      "Epoch 42, CIFAR-10 Batch 4:  Loss: 0.004724, Validation Accuracy: 0.736800\n",
      "Epoch 42, CIFAR-10 Batch 5:  Loss: 0.015724, Validation Accuracy: 0.743600\n",
      "Epoch 43, CIFAR-10 Batch 1:  Loss: 0.019437, Validation Accuracy: 0.727600\n",
      "Epoch 43, CIFAR-10 Batch 2:  Loss: 0.019221, Validation Accuracy: 0.730800\n",
      "Epoch 43, CIFAR-10 Batch 3:  Loss: 0.008605, Validation Accuracy: 0.711200\n",
      "Epoch 43, CIFAR-10 Batch 4:  Loss: 0.012378, Validation Accuracy: 0.731600\n",
      "Epoch 43, CIFAR-10 Batch 5:  Loss: 0.017112, Validation Accuracy: 0.740800\n",
      "Epoch 44, CIFAR-10 Batch 1:  Loss: 0.019557, Validation Accuracy: 0.727400\n",
      "Epoch 44, CIFAR-10 Batch 2:  Loss: 0.013521, Validation Accuracy: 0.736400\n",
      "Epoch 44, CIFAR-10 Batch 3:  Loss: 0.016850, Validation Accuracy: 0.738800\n",
      "Epoch 44, CIFAR-10 Batch 4:  Loss: 0.009505, Validation Accuracy: 0.733400\n",
      "Epoch 44, CIFAR-10 Batch 5:  Loss: 0.010658, Validation Accuracy: 0.738000\n",
      "Epoch 45, CIFAR-10 Batch 1:  Loss: 0.012273, Validation Accuracy: 0.731400\n",
      "Epoch 45, CIFAR-10 Batch 2:  Loss: 0.017170, Validation Accuracy: 0.733600\n",
      "Epoch 45, CIFAR-10 Batch 3:  Loss: 0.002997, Validation Accuracy: 0.744000\n",
      "Epoch 45, CIFAR-10 Batch 4:  Loss: 0.005751, Validation Accuracy: 0.725400\n",
      "Epoch 45, CIFAR-10 Batch 5:  Loss: 0.010279, Validation Accuracy: 0.744800\n",
      "Epoch 46, CIFAR-10 Batch 1:  Loss: 0.016592, Validation Accuracy: 0.730200\n",
      "Epoch 46, CIFAR-10 Batch 2:  Loss: 0.024801, Validation Accuracy: 0.730600\n",
      "Epoch 46, CIFAR-10 Batch 3:  Loss: 0.009902, Validation Accuracy: 0.736800\n",
      "Epoch 46, CIFAR-10 Batch 4:  Loss: 0.014466, Validation Accuracy: 0.741400\n",
      "Epoch 46, CIFAR-10 Batch 5:  Loss: 0.004688, Validation Accuracy: 0.735600\n",
      "Epoch 47, CIFAR-10 Batch 1:  Loss: 0.030238, Validation Accuracy: 0.723800\n",
      "Epoch 47, CIFAR-10 Batch 2:  Loss: 0.022276, Validation Accuracy: 0.730600\n",
      "Epoch 47, CIFAR-10 Batch 3:  Loss: 0.003736, Validation Accuracy: 0.743200\n",
      "Epoch 47, CIFAR-10 Batch 4:  Loss: 0.004262, Validation Accuracy: 0.736200\n",
      "Epoch 47, CIFAR-10 Batch 5:  Loss: 0.004936, Validation Accuracy: 0.743800\n",
      "Epoch 48, CIFAR-10 Batch 1:  Loss: 0.008870, Validation Accuracy: 0.737200\n",
      "Epoch 48, CIFAR-10 Batch 2:  Loss: 0.018422, Validation Accuracy: 0.741600\n",
      "Epoch 48, CIFAR-10 Batch 3:  Loss: 0.011116, Validation Accuracy: 0.741800\n",
      "Epoch 48, CIFAR-10 Batch 4:  Loss: 0.009062, Validation Accuracy: 0.739400\n",
      "Epoch 48, CIFAR-10 Batch 5:  Loss: 0.003745, Validation Accuracy: 0.740400\n",
      "Epoch 49, CIFAR-10 Batch 1:  Loss: 0.010041, Validation Accuracy: 0.746600\n",
      "Epoch 49, CIFAR-10 Batch 2:  Loss: 0.016639, Validation Accuracy: 0.745000\n",
      "Epoch 49, CIFAR-10 Batch 3:  Loss: 0.005354, Validation Accuracy: 0.741200\n",
      "Epoch 49, CIFAR-10 Batch 4:  Loss: 0.007334, Validation Accuracy: 0.736600\n",
      "Epoch 49, CIFAR-10 Batch 5:  Loss: 0.006278, Validation Accuracy: 0.740200\n",
      "Epoch 50, CIFAR-10 Batch 1:  Loss: 0.008340, Validation Accuracy: 0.736000\n",
      "Epoch 50, CIFAR-10 Batch 2:  Loss: 0.015450, Validation Accuracy: 0.724000\n",
      "Epoch 50, CIFAR-10 Batch 3:  Loss: 0.002842, Validation Accuracy: 0.733200\n",
      "Epoch 50, CIFAR-10 Batch 4:  Loss: 0.005705, Validation Accuracy: 0.734400\n",
      "Epoch 50, CIFAR-10 Batch 5:  Loss: 0.007855, Validation Accuracy: 0.734800\n",
      "Epoch 51, CIFAR-10 Batch 1:  Loss: 0.005546, Validation Accuracy: 0.735600\n",
      "Epoch 51, CIFAR-10 Batch 2:  Loss: 0.013802, Validation Accuracy: 0.730400\n",
      "Epoch 51, CIFAR-10 Batch 3:  Loss: 0.002691, Validation Accuracy: 0.735600\n",
      "Epoch 51, CIFAR-10 Batch 4:  Loss: 0.004622, Validation Accuracy: 0.737000\n",
      "Epoch 51, CIFAR-10 Batch 5:  Loss: 0.006785, Validation Accuracy: 0.731400\n",
      "Epoch 52, CIFAR-10 Batch 1:  Loss: 0.005529, Validation Accuracy: 0.733200\n",
      "Epoch 52, CIFAR-10 Batch 2:  Loss: 0.008489, Validation Accuracy: 0.745200\n",
      "Epoch 52, CIFAR-10 Batch 3:  Loss: 0.001961, Validation Accuracy: 0.737800\n",
      "Epoch 52, CIFAR-10 Batch 4:  Loss: 0.014789, Validation Accuracy: 0.729200\n",
      "Epoch 52, CIFAR-10 Batch 5:  Loss: 0.006523, Validation Accuracy: 0.739600\n",
      "Epoch 53, CIFAR-10 Batch 1:  Loss: 0.008758, Validation Accuracy: 0.742000\n",
      "Epoch 53, CIFAR-10 Batch 2:  Loss: 0.024410, Validation Accuracy: 0.738200\n",
      "Epoch 53, CIFAR-10 Batch 3:  Loss: 0.008979, Validation Accuracy: 0.739400\n",
      "Epoch 53, CIFAR-10 Batch 4:  Loss: 0.010309, Validation Accuracy: 0.744200\n",
      "Epoch 53, CIFAR-10 Batch 5:  Loss: 0.007764, Validation Accuracy: 0.738200\n",
      "Epoch 54, CIFAR-10 Batch 1:  Loss: 0.010068, Validation Accuracy: 0.741400\n",
      "Epoch 54, CIFAR-10 Batch 2:  Loss: 0.005272, Validation Accuracy: 0.742800\n",
      "Epoch 54, CIFAR-10 Batch 3:  Loss: 0.001672, Validation Accuracy: 0.741000\n",
      "Epoch 54, CIFAR-10 Batch 4:  Loss: 0.004877, Validation Accuracy: 0.730200\n",
      "Epoch 54, CIFAR-10 Batch 5:  Loss: 0.005252, Validation Accuracy: 0.727800\n",
      "Epoch 55, CIFAR-10 Batch 1:  Loss: 0.008549, Validation Accuracy: 0.735000\n",
      "Epoch 55, CIFAR-10 Batch 2:  Loss: 0.013316, Validation Accuracy: 0.745000\n",
      "Epoch 55, CIFAR-10 Batch 3:  Loss: 0.005486, Validation Accuracy: 0.738800\n",
      "Epoch 55, CIFAR-10 Batch 4:  Loss: 0.006164, Validation Accuracy: 0.734400\n",
      "Epoch 55, CIFAR-10 Batch 5:  Loss: 0.028587, Validation Accuracy: 0.727200\n",
      "Epoch 56, CIFAR-10 Batch 1:  Loss: 0.007977, Validation Accuracy: 0.737400\n",
      "Epoch 56, CIFAR-10 Batch 2:  Loss: 0.010182, Validation Accuracy: 0.734200\n",
      "Epoch 56, CIFAR-10 Batch 3:  Loss: 0.002300, Validation Accuracy: 0.735000\n",
      "Epoch 56, CIFAR-10 Batch 4:  Loss: 0.003145, Validation Accuracy: 0.734600\n",
      "Epoch 56, CIFAR-10 Batch 5:  Loss: 0.006146, Validation Accuracy: 0.737400\n",
      "Epoch 57, CIFAR-10 Batch 1:  Loss: 0.010134, Validation Accuracy: 0.730600\n",
      "Epoch 57, CIFAR-10 Batch 2:  Loss: 0.014611, Validation Accuracy: 0.733400\n",
      "Epoch 57, CIFAR-10 Batch 3:  Loss: 0.005134, Validation Accuracy: 0.733600\n",
      "Epoch 57, CIFAR-10 Batch 4:  Loss: 0.001830, Validation Accuracy: 0.741800\n",
      "Epoch 57, CIFAR-10 Batch 5:  Loss: 0.002806, Validation Accuracy: 0.737800\n",
      "Epoch 58, CIFAR-10 Batch 1:  Loss: 0.010705, Validation Accuracy: 0.733600\n",
      "Epoch 58, CIFAR-10 Batch 2:  Loss: 0.006707, Validation Accuracy: 0.744400\n",
      "Epoch 58, CIFAR-10 Batch 3:  Loss: 0.004853, Validation Accuracy: 0.743800\n",
      "Epoch 58, CIFAR-10 Batch 4:  Loss: 0.005549, Validation Accuracy: 0.735200\n",
      "Epoch 58, CIFAR-10 Batch 5:  Loss: 0.003918, Validation Accuracy: 0.741800\n",
      "Epoch 59, CIFAR-10 Batch 1:  Loss: 0.011148, Validation Accuracy: 0.729600\n",
      "Epoch 59, CIFAR-10 Batch 2:  Loss: 0.006353, Validation Accuracy: 0.734200\n",
      "Epoch 59, CIFAR-10 Batch 3:  Loss: 0.010173, Validation Accuracy: 0.735800\n",
      "Epoch 59, CIFAR-10 Batch 4:  Loss: 0.005220, Validation Accuracy: 0.727400\n",
      "Epoch 59, CIFAR-10 Batch 5:  Loss: 0.007780, Validation Accuracy: 0.731600\n",
      "Epoch 60, CIFAR-10 Batch 1:  Loss: 0.015794, Validation Accuracy: 0.737000\n",
      "Epoch 60, CIFAR-10 Batch 2:  Loss: 0.009264, Validation Accuracy: 0.734200\n",
      "Epoch 60, CIFAR-10 Batch 3:  Loss: 0.002766, Validation Accuracy: 0.739000\n",
      "Epoch 60, CIFAR-10 Batch 4:  Loss: 0.004104, Validation Accuracy: 0.727200\n",
      "Epoch 60, CIFAR-10 Batch 5:  Loss: 0.011254, Validation Accuracy: 0.733600\n",
      "Epoch 61, CIFAR-10 Batch 1:  Loss: 0.004502, Validation Accuracy: 0.741000\n",
      "Epoch 61, CIFAR-10 Batch 2:  Loss: 0.018586, Validation Accuracy: 0.735800\n",
      "Epoch 61, CIFAR-10 Batch 3:  Loss: 0.002425, Validation Accuracy: 0.747200\n",
      "Epoch 61, CIFAR-10 Batch 4:  Loss: 0.006056, Validation Accuracy: 0.724600\n",
      "Epoch 61, CIFAR-10 Batch 5:  Loss: 0.007746, Validation Accuracy: 0.741400\n",
      "Epoch 62, CIFAR-10 Batch 1:  Loss: 0.008728, Validation Accuracy: 0.742600\n",
      "Epoch 62, CIFAR-10 Batch 2:  Loss: 0.004987, Validation Accuracy: 0.749800\n",
      "Epoch 62, CIFAR-10 Batch 3:  Loss: 0.002118, Validation Accuracy: 0.738000\n",
      "Epoch 62, CIFAR-10 Batch 4:  Loss: 0.004875, Validation Accuracy: 0.738200\n",
      "Epoch 62, CIFAR-10 Batch 5:  Loss: 0.004709, Validation Accuracy: 0.727600\n",
      "Epoch 63, CIFAR-10 Batch 1:  Loss: 0.012103, Validation Accuracy: 0.734600\n",
      "Epoch 63, CIFAR-10 Batch 2:  Loss: 0.003197, Validation Accuracy: 0.735600\n",
      "Epoch 63, CIFAR-10 Batch 3:  Loss: 0.001360, Validation Accuracy: 0.744800\n",
      "Epoch 63, CIFAR-10 Batch 4:  Loss: 0.008488, Validation Accuracy: 0.729000\n",
      "Epoch 63, CIFAR-10 Batch 5:  Loss: 0.002770, Validation Accuracy: 0.734200\n",
      "Epoch 64, CIFAR-10 Batch 1:  Loss: 0.007050, Validation Accuracy: 0.735800\n",
      "Epoch 64, CIFAR-10 Batch 2:  Loss: 0.012960, Validation Accuracy: 0.744200\n",
      "Epoch 64, CIFAR-10 Batch 3:  Loss: 0.003246, Validation Accuracy: 0.737600\n",
      "Epoch 64, CIFAR-10 Batch 4:  Loss: 0.033530, Validation Accuracy: 0.736200\n",
      "Epoch 64, CIFAR-10 Batch 5:  Loss: 0.014271, Validation Accuracy: 0.740800\n",
      "Epoch 65, CIFAR-10 Batch 1:  Loss: 0.004534, Validation Accuracy: 0.740800\n",
      "Epoch 65, CIFAR-10 Batch 2:  Loss: 0.003940, Validation Accuracy: 0.735400\n",
      "Epoch 65, CIFAR-10 Batch 3:  Loss: 0.002188, Validation Accuracy: 0.727800\n",
      "Epoch 65, CIFAR-10 Batch 4:  Loss: 0.001187, Validation Accuracy: 0.733200\n",
      "Epoch 65, CIFAR-10 Batch 5:  Loss: 0.004981, Validation Accuracy: 0.735800\n",
      "Epoch 66, CIFAR-10 Batch 1:  Loss: 0.008242, Validation Accuracy: 0.735400\n",
      "Epoch 66, CIFAR-10 Batch 2:  Loss: 0.007118, Validation Accuracy: 0.737600\n",
      "Epoch 66, CIFAR-10 Batch 3:  Loss: 0.001140, Validation Accuracy: 0.740000\n",
      "Epoch 66, CIFAR-10 Batch 4:  Loss: 0.006403, Validation Accuracy: 0.736400\n",
      "Epoch 66, CIFAR-10 Batch 5:  Loss: 0.009997, Validation Accuracy: 0.735000\n",
      "Epoch 67, CIFAR-10 Batch 1:  Loss: 0.010239, Validation Accuracy: 0.738200\n",
      "Epoch 67, CIFAR-10 Batch 2:  Loss: 0.007982, Validation Accuracy: 0.731800\n",
      "Epoch 67, CIFAR-10 Batch 3:  Loss: 0.004454, Validation Accuracy: 0.726800\n",
      "Epoch 67, CIFAR-10 Batch 4:  Loss: 0.010289, Validation Accuracy: 0.731400\n",
      "Epoch 67, CIFAR-10 Batch 5:  Loss: 0.002267, Validation Accuracy: 0.739600\n",
      "Epoch 68, CIFAR-10 Batch 1:  Loss: 0.015310, Validation Accuracy: 0.726200\n",
      "Epoch 68, CIFAR-10 Batch 2:  Loss: 0.002198, Validation Accuracy: 0.744000\n",
      "Epoch 68, CIFAR-10 Batch 3:  Loss: 0.008748, Validation Accuracy: 0.739400\n",
      "Epoch 68, CIFAR-10 Batch 4:  Loss: 0.003044, Validation Accuracy: 0.724800\n",
      "Epoch 68, CIFAR-10 Batch 5:  Loss: 0.005838, Validation Accuracy: 0.741200\n",
      "Epoch 69, CIFAR-10 Batch 1:  Loss: 0.031172, Validation Accuracy: 0.742400\n",
      "Epoch 69, CIFAR-10 Batch 2:  Loss: 0.007368, Validation Accuracy: 0.744600\n",
      "Epoch 69, CIFAR-10 Batch 3:  Loss: 0.002047, Validation Accuracy: 0.743400\n",
      "Epoch 69, CIFAR-10 Batch 4:  Loss: 0.000557, Validation Accuracy: 0.723000\n",
      "Epoch 69, CIFAR-10 Batch 5:  Loss: 0.003538, Validation Accuracy: 0.735800\n",
      "Epoch 70, CIFAR-10 Batch 1:  Loss: 0.026850, Validation Accuracy: 0.728800\n",
      "Epoch 70, CIFAR-10 Batch 2:  Loss: 0.001936, Validation Accuracy: 0.734000\n",
      "Epoch 70, CIFAR-10 Batch 3:  Loss: 0.001423, Validation Accuracy: 0.729800\n",
      "Epoch 70, CIFAR-10 Batch 4:  Loss: 0.000703, Validation Accuracy: 0.727600\n",
      "Epoch 70, CIFAR-10 Batch 5:  Loss: 0.004837, Validation Accuracy: 0.742600\n"
     ]
    }
   ],
   "source": [
    "\"\"\"\n",
    "DON'T MODIFY ANYTHING IN THIS CELL\n",
    "\"\"\"\n",
    "save_model_path = './image_classification'\n",
    "\n",
    "print('Training...')\n",
    "with tf.Session() as sess:\n",
    "    # Initializing the variables\n",
    "    sess.run(tf.global_variables_initializer())\n",
    "    \n",
    "    # Training cycle\n",
    "    for epoch in range(epochs):\n",
    "        # Loop over all batches\n",
    "        n_batches = 5\n",
    "        for batch_i in range(1, n_batches + 1):\n",
    "            for batch_features, batch_labels in helper.load_preprocess_training_batch(batch_i, batch_size):\n",
    "                train_neural_network(sess, optimizer, keep_probability, batch_features, batch_labels)\n",
    "            print('Epoch {:>2}, CIFAR-10 Batch {}:  '.format(epoch + 1, batch_i), end='')\n",
    "            print_stats(sess, batch_features, batch_labels, cost, accuracy)\n",
    "            \n",
    "    # Save Model\n",
    "    saver = tf.train.Saver()\n",
    "    save_path = saver.save(sess, save_model_path)"
   ]
  },
  {
   "cell_type": "markdown",
   "metadata": {
    "deletable": true,
    "editable": true
   },
   "source": [
    "# Checkpoint\n",
    "The model has been saved to disk.\n",
    "## Test Model\n",
    "Test your model against the test dataset.  This will be your final accuracy. You should have an accuracy greater than 50%. If you don't, keep tweaking the model architecture and parameters."
   ]
  },
  {
   "cell_type": "code",
   "execution_count": 65,
   "metadata": {
    "collapsed": false,
    "deletable": true,
    "editable": true
   },
   "outputs": [
    {
     "name": "stdout",
     "output_type": "stream",
     "text": [
      "Testing Accuracy: 0.7352650316455697\n",
      "\n"
     ]
    },
    {
     "data": {
      "image/png": "[encoded data removed]",
      "text/plain": [
       "<matplotlib.figure.Figure at 0x7f21587ed5f8>"
      ]
     },
     "metadata": {
      "image/png": {
       "height": 319,
       "width": 355
      }
     },
     "output_type": "display_data"
    }
   ],
   "source": [
    "\"\"\"\n",
    "DON'T MODIFY ANYTHING IN THIS CELL\n",
    "\"\"\"\n",
    "%matplotlib inline\n",
    "%config InlineBackend.figure_format = 'retina'\n",
    "\n",
    "import tensorflow as tf\n",
    "import pickle\n",
    "import helper\n",
    "import random\n",
    "\n",
    "# Set batch size if not already set\n",
    "try:\n",
    "    if batch_size:\n",
    "        pass\n",
    "except NameError:\n",
    "    batch_size = 64\n",
    "\n",
    "save_model_path = './image_classification'\n",
    "n_samples = 4\n",
    "top_n_predictions = 3\n",
    "\n",
    "def test_model():\n",
    "    \"\"\"\n",
    "    Test the saved model against the test dataset\n",
    "    \"\"\"\n",
    "\n",
    "    test_features, test_labels = pickle.load(open('preprocess_training.p', mode='rb'))\n",
    "    loaded_graph = tf.Graph()\n",
    "\n",
    "    with tf.Session(graph=loaded_graph) as sess:\n",
    "        # Load model\n",
    "        loader = tf.train.import_meta_graph(save_model_path + '.meta')\n",
    "        loader.restore(sess, save_model_path)\n",
    "\n",
    "        # Get Tensors from loaded model\n",
    "        loaded_x = loaded_graph.get_tensor_by_name('x:0')\n",
    "        loaded_y = loaded_graph.get_tensor_by_name('y:0')\n",
    "        loaded_keep_prob = loaded_graph.get_tensor_by_name('keep_prob:0')\n",
    "        loaded_logits = loaded_graph.get_tensor_by_name('logits:0')\n",
    "        loaded_acc = loaded_graph.get_tensor_by_name('accuracy:0')\n",
    "        \n",
    "        # Get accuracy in batches for memory limitations\n",
    "        test_batch_acc_total = 0\n",
    "        test_batch_count = 0\n",
    "        \n",
    "        for train_feature_batch, train_label_batch in helper.batch_features_labels(test_features, test_labels, batch_size):\n",
    "            test_batch_acc_total += sess.run(\n",
    "                loaded_acc,\n",
    "                feed_dict={loaded_x: train_feature_batch, loaded_y: train_label_batch, loaded_keep_prob: 1.0})\n",
    "            test_batch_count += 1\n",
    "\n",
    "        print('Testing Accuracy: {}\\n'.format(test_batch_acc_total/test_batch_count))\n",
    "\n",
    "        # Print Random Samples\n",
    "        random_test_features, random_test_labels = tuple(zip(*random.sample(list(zip(test_features, test_labels)), n_samples)))\n",
    "        random_test_predictions = sess.run(\n",
    "            tf.nn.top_k(tf.nn.softmax(loaded_logits), top_n_predictions),\n",
    "            feed_dict={loaded_x: random_test_features, loaded_y: random_test_labels, loaded_keep_prob: 1.0})\n",
    "        helper.display_image_predictions(random_test_features, random_test_labels, random_test_predictions)\n",
    "\n",
    "\n",
    "test_model()"
   ]
  },
  {
   "cell_type": "markdown",
   "metadata": {
    "deletable": true,
    "editable": true
   },
   "source": [
    "## Why 50-70% Accuracy?\n",
    "You might be wondering why you can't get an accuracy any higher. First things first, 50% isn't bad for a simple CNN.  Pure guessing would get you 10% accuracy. However, you might notice people are getting scores [well above 70%](http://rodrigob.github.io/are_we_there_yet/build/classification_datasets_results.html#43494641522d3130).  That's because we haven't taught you all there is to know about neural networks. We still need to cover a few more techniques.\n",
    "## Submitting This Project\n",
    "When submitting this project, make sure to run all the cells before saving the notebook.  Save the notebook file as \"dlnd_image_classification.ipynb\" and save it as a HTML file under \"File\" -> \"Download as\".  Include the \"helper.py\" and \"problem_unittests.py\" files in your submission."
   ]
  }
 ],
 "metadata": {
  "kernelspec": {
   "display_name": "Python 3",
   "language": "python",
   "name": "python3"
  },
  "language_info": {
   "codemirror_mode": {
    "name": "ipython",
    "version": 3
   },
   "file_extension": ".py",
   "mimetype": "text/x-python",
   "name": "python",
   "nbconvert_exporter": "python",
   "pygments_lexer": "ipython3",
   "version": "3.5.2"
  },
  "widgets": {
   "state": {},
   "version": "1.1.2"
  }
 },
 "nbformat": 4,
 "nbformat_minor": 0
}
